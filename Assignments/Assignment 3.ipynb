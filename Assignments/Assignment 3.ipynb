{
 "cells": [
  {
   "cell_type": "markdown",
   "metadata": {},
   "source": [
    "# Question 1"
   ]
  },
  {
   "cell_type": "code",
   "execution_count": 2,
   "metadata": {},
   "outputs": [
    {
     "name": "stdout",
     "output_type": "stream",
     "text": [
      "Enter real part of a 2\n",
      "Enter imaginary part of a 3\n",
      "Enter real part of b 1\n",
      "Enter imaginary part of b 2\n",
      "Answer after substraction :  1 + i 1\n"
     ]
    }
   ],
   "source": [
    "a=int(input(\"Enter real part of a \"))\n",
    "b=int(input(\"Enter imaginary part of a \"))\n",
    "x=int(input(\"Enter real part of b \"))\n",
    "y=int(input(\"Enter imaginary part of b \"))\n",
    "print(\"Answer after substraction : \",a-x,\"+ i\",b-y)"
   ]
  },
  {
   "cell_type": "markdown",
   "metadata": {},
   "source": [
    "# Question 2"
   ]
  },
  {
   "cell_type": "code",
   "execution_count": 4,
   "metadata": {},
   "outputs": [
    {
     "name": "stdout",
     "output_type": "stream",
     "text": [
      "Enter a number 16\n",
      "Fourth root of a number is :  2.0\n"
     ]
    }
   ],
   "source": [
    "a=int(input(\"Enter a number \"))\n",
    "print(\"Fourth root of a number is : \",a**0.25 )"
   ]
  },
  {
   "cell_type": "markdown",
   "metadata": {},
   "source": [
    "# Question 3"
   ]
  },
  {
   "cell_type": "code",
   "execution_count": 5,
   "metadata": {},
   "outputs": [
    {
     "name": "stdout",
     "output_type": "stream",
     "text": [
      "Enter value of a 2\n",
      "Enter value of b 3\n",
      "Two numbers swaped\n"
     ]
    }
   ],
   "source": [
    "a=int(input(\"Enter value of a \"))\n",
    "b=int(input(\"Enter value of b \"))\n",
    "c=a\n",
    "a=b\n",
    "b=a\n",
    "print(\"Two numbers swaped with help of temporary variable\")"
   ]
  },
  {
   "cell_type": "markdown",
   "metadata": {},
   "source": [
    "# Question 4"
   ]
  },
  {
   "cell_type": "code",
   "execution_count": 6,
   "metadata": {},
   "outputs": [
    {
     "name": "stdout",
     "output_type": "stream",
     "text": [
      "Enter value of a 2\n",
      "Enter value of b 3\n",
      "Two numbers swaped without help of temporary variable\n"
     ]
    }
   ],
   "source": [
    "a=int(input(\"Enter value of a \"))\n",
    "b=int(input(\"Enter value of b \"))\n",
    "a,b=b,a\n",
    "print(\"Two numbers swaped without help of temporary variable\")"
   ]
  },
  {
   "cell_type": "markdown",
   "metadata": {},
   "source": [
    "# Question 5"
   ]
  },
  {
   "cell_type": "code",
   "execution_count": 7,
   "metadata": {},
   "outputs": [
    {
     "name": "stdout",
     "output_type": "stream",
     "text": [
      "Enter value of temparature in farenheit 32\n",
      "Temerature in kelvin is  273.0\n",
      "Temerature in celsius is  0.0\n"
     ]
    }
   ],
   "source": [
    "f=float(input(\"Enter value of temparature in farenheit \"))\n",
    "print(\"Temerature in kelvin is \",5/9*(f-32) +273 )\n",
    "print(\"Temerature in celsius is \", 5/9*(f-32))"
   ]
  },
  {
   "cell_type": "markdown",
   "metadata": {},
   "source": [
    "# Question 6"
   ]
  },
  {
   "cell_type": "code",
   "execution_count": 11,
   "metadata": {},
   "outputs": [
    {
     "name": "stdout",
     "output_type": "stream",
     "text": [
      "<class 'int'>\n",
      "<class 'float'>\n",
      "<class 'str'>\n",
      "<class 'bool'>\n"
     ]
    }
   ],
   "source": [
    "a=1\n",
    "b=1.0\n",
    "c=\"ovs\"\n",
    "d=True\n",
    "print(type(a))\n",
    "print(type(b))\n",
    "print(type(c))\n",
    "print(type(d))"
   ]
  },
  {
   "cell_type": "markdown",
   "metadata": {},
   "source": [
    "# Question 7"
   ]
  },
  {
   "cell_type": "markdown",
   "metadata": {},
   "source": [
    "We have to upload the assignment solutions to your GitHub profile and submit the URL to Letsupgrade.\n",
    "\n",
    "1 Create a Github public repo and name it LetsUpgrade AI/ML\n",
    "2 Upload the files/solution in the repo in day wise manner.\n",
    "3 Copy the URL of the Folder of that day and paste in the Assignment Submission Form (Google Form)"
   ]
  },
  {
   "cell_type": "code",
   "execution_count": null,
   "metadata": {},
   "outputs": [],
   "source": []
  }
 ],
 "metadata": {
  "kernelspec": {
   "display_name": "Python 3",
   "language": "python",
   "name": "python3"
  },
  "language_info": {
   "codemirror_mode": {
    "name": "ipython",
    "version": 3
   },
   "file_extension": ".py",
   "mimetype": "text/x-python",
   "name": "python",
   "nbconvert_exporter": "python",
   "pygments_lexer": "ipython3",
   "version": "3.8.2"
  }
 },
 "nbformat": 4,
 "nbformat_minor": 4
}
