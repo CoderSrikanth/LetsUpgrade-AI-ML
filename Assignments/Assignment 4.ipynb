{
 "cells": [
  {
   "cell_type": "markdown",
   "metadata": {},
   "source": [
    "# Question 1"
   ]
  },
  {
   "cell_type": "code",
   "execution_count": 1,
   "metadata": {},
   "outputs": [
    {
     "name": "stdout",
     "output_type": "stream",
     "text": [
      "Enter real part of a 5\n",
      "Enter imaginary part of a 4\n",
      "Enter real part of b 5\n",
      "Enter imaginary part of b 6\n",
      "Addition : (10+10j)    Substraction : -2j    Multiplication :  (1+50j)      Division : (0.8032786885245902-0.16393442622950816j)\n",
      "Modulo operations can't be done on complex numbers\n",
      "Floor division operations can't be done on complex numbers\n"
     ]
    }
   ],
   "source": [
    "a=int(input(\"Enter real part of a \"))\n",
    "b=int(input(\"Enter imaginary part of a \"))\n",
    "x=int(input(\"Enter real part of b \"))\n",
    "y=int(input(\"Enter imaginary part of b \"))\n",
    "p=complex(a,b)\n",
    "q=complex(x,y)\n",
    "print(\"Addition :\", p+q,\"   Substraction :\",p-q,\"   Multiplication : \", p*q ,\"     Division :\", p/q)\n",
    "print(\"Modulo operations can't be done on complex numbers\")\n",
    "print(\"Floor division operations can't be done on complex numbers\")"
   ]
  },
  {
   "cell_type": "markdown",
   "metadata": {},
   "source": [
    "# Question 2"
   ]
  },
  {
   "cell_type": "markdown",
   "metadata": {},
   "source": [
    "Range function is a iterable object which we frequenty use in for loops\n",
    "\n",
    "range( start, end, stepsize) is syntax used\n",
    "\n",
    "Ex :    range(1,10,2) gives 1,3,5,7,9\n",
    "Ex :    range(1,10) gives 1,2,3,4,5,6,7,8,9 \n",
    "\n",
    "when only one parameter passed it takes start value as zero and end value as provided number\n",
    "\n",
    "Ex :    range(5) gives 0,1,2,3,4 "
   ]
  },
  {
   "cell_type": "markdown",
   "metadata": {},
   "source": [
    "# Question 3"
   ]
  },
  {
   "cell_type": "code",
   "execution_count": 4,
   "metadata": {},
   "outputs": [
    {
     "name": "stdout",
     "output_type": "stream",
     "text": [
      "Enter value of a 5\n",
      "Enter value of b 7\n",
      "0.7142857142857143\n"
     ]
    }
   ],
   "source": [
    "a=int(input(\"Enter value of a \"))\n",
    "b=int(input(\"Enter value of b \"))\n",
    "x=abs(a-b)\n",
    "if(x>25):\n",
    "    print(a*b)\n",
    "else:\n",
    "    print(a/b)"
   ]
  },
  {
   "cell_type": "markdown",
   "metadata": {},
   "source": [
    "# Question 4"
   ]
  },
  {
   "cell_type": "code",
   "execution_count": 11,
   "metadata": {},
   "outputs": [
    {
     "name": "stdout",
     "output_type": "stream",
     "text": [
      "-2\n",
      "2\n",
      "14\n",
      "34\n",
      "62\n"
     ]
    }
   ],
   "source": [
    "list=[i for i in range(10)]\n",
    "for i in list: \n",
    "    if(i%2==0):\n",
    "        print(i*i-2) "
   ]
  },
  {
   "cell_type": "markdown",
   "metadata": {},
   "source": [
    "# Question 5"
   ]
  },
  {
   "cell_type": "code",
   "execution_count": 13,
   "metadata": {},
   "outputs": [
    {
     "name": "stdout",
     "output_type": "stream",
     "text": [
      "10\n",
      "12\n",
      "14\n",
      "16\n",
      "18\n",
      "20\n",
      "22\n",
      "24\n"
     ]
    }
   ],
   "source": [
    "list=[i for i in range(10,25)]\n",
    "for i in list: \n",
    "    if(i>7 and i%2==0):\n",
    "        print(i)"
   ]
  },
  {
   "cell_type": "code",
   "execution_count": null,
   "metadata": {},
   "outputs": [],
   "source": []
  }
 ],
 "metadata": {
  "kernelspec": {
   "display_name": "Python 3",
   "language": "python",
   "name": "python3"
  },
  "language_info": {
   "codemirror_mode": {
    "name": "ipython",
    "version": 3
   },
   "file_extension": ".py",
   "mimetype": "text/x-python",
   "name": "python",
   "nbconvert_exporter": "python",
   "pygments_lexer": "ipython3",
   "version": "3.8.2"
  }
 },
 "nbformat": 4,
 "nbformat_minor": 4
}
