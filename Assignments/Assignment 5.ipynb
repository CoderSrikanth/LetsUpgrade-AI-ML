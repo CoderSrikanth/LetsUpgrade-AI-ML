{
 "cells": [
  {
   "cell_type": "code",
   "execution_count": 7,
   "metadata": {},
   "outputs": [
    {
     "name": "stdout",
     "output_type": "stream",
     "text": [
      "5\n",
      "7\n",
      "11\n",
      "13\n",
      "17\n",
      "19\n",
      "23\n",
      "29\n",
      "31\n",
      "37\n",
      "41\n",
      "43\n",
      "47\n",
      "53\n",
      "59\n",
      "61\n",
      "67\n",
      "71\n",
      "73\n",
      "79\n",
      "83\n"
     ]
    }
   ],
   "source": [
    "from math import * \n",
    "def prime(n):\n",
    "    for i in range(2,floor(n**0.5)+1):\n",
    "        if(not n%i):\n",
    "            return False\n",
    "    return True\n",
    "\n",
    "x=3\n",
    "y=0\n",
    "while(y<21):\n",
    "    x=x+1\n",
    "    if(prime(x)):\n",
    "        print(x)\n",
    "        y=y+1"
   ]
  },
  {
   "cell_type": "markdown",
   "metadata": {},
   "source": [
    "# Question 2"
   ]
  },
  {
   "cell_type": "code",
   "execution_count": 9,
   "metadata": {},
   "outputs": [
    {
     "name": "stdout",
     "output_type": "stream",
     "text": [
      "vsri\n",
      "ovsr\n",
      "vsrikanth\n",
      "ovsrikanth\n",
      "ovsrikanth\n",
      "htnakirsvo\n",
      "ikant\n",
      "ovsrikanthMachine Learning\n",
      "OVSRIKANTH\n",
      "ovsrikanth\n",
      "OVSRIKANTH\n",
      "True\n",
      "ovsrikanth\n",
      "10\n",
      "-1\n",
      "0\n"
     ]
    }
   ],
   "source": [
    "s=\"ovsrikanth\"\n",
    "print(s[1:5])\n",
    "print(s[:4])\n",
    "print(s[1:])\n",
    "print(s[:])\n",
    "print(s)\n",
    "print(s[::-1])\n",
    "print(s[-6:-1])\n",
    "\n",
    "s1 = \"ovsrikanth\"\n",
    "s2 = \"Machine Learning\"\n",
    "print(s1+s2)\n",
    "print(s1.swapcase())\n",
    "print(s1.lower())\n",
    "print(s1.upper())\n",
    "print(s1.isalpha())\n",
    "print(s1.replace('l','z'))\n",
    "print(len(s1))\n",
    "print(s1.find('W'))\n",
    "print(s1.find('o',0,5))"
   ]
  },
  {
   "cell_type": "markdown",
   "metadata": {},
   "source": [
    "# Question 3"
   ]
  },
  {
   "cell_type": "code",
   "execution_count": 16,
   "metadata": {},
   "outputs": [
    {
     "name": "stdout",
     "output_type": "stream",
     "text": [
      "Enter a string :  asdfdsa\n",
      "Enter a string :  asfddsa\n",
      "First String is a Palindrome\n",
      "Second String not is a Palindrome\n",
      "Given Two strings are Anagrams\n"
     ]
    }
   ],
   "source": [
    "def palindrome(s):\n",
    "    for i in range(len(s)):\n",
    "        if(s[i]!=s[len(s)-1-i]):\n",
    "            return False\n",
    "    return True\n",
    "\n",
    "a= input(\"Enter a string :  \")\n",
    "b= input(\"Enter a string :  \")\n",
    "\n",
    "if(palindrome(a)):\n",
    "    print(\"First String is a Palindrome\")\n",
    "else:\n",
    "    print(\"Frist String not is a Palindrome\")\n",
    "\n",
    "if(palindrome(b)):\n",
    "    print(\"Second String is a Palindrome\")\n",
    "else:\n",
    "    print(\"Second String not is a Palindrome\")\n",
    "a=list(a)\n",
    "b=list(b)\n",
    "a.sort(),b.sort()\n",
    "if(a==b):\n",
    "    print(\"Given Two strings are Anagrams\")\n",
    "else:\n",
    "    print(\"Given Two strings not are Anagrams\")"
   ]
  },
  {
   "cell_type": "markdown",
   "metadata": {},
   "source": [
    "# Question 4"
   ]
  },
  {
   "cell_type": "code",
   "execution_count": 18,
   "metadata": {},
   "outputs": [
    {
     "name": "stdout",
     "output_type": "stream",
     "text": [
      "Enter a string : dskl:Fm\n",
      "dsklFm"
     ]
    }
   ],
   "source": [
    "\n",
    "s= input(\"Enter a string : \")\n",
    "for i in s:\n",
    "    if(i.isalpha()):\n",
    "        print(i,end=\"\")\n",
    "        \n"
   ]
  },
  {
   "cell_type": "code",
   "execution_count": null,
   "metadata": {},
   "outputs": [],
   "source": []
  }
 ],
 "metadata": {
  "kernelspec": {
   "display_name": "Python 3",
   "language": "python",
   "name": "python3"
  },
  "language_info": {
   "codemirror_mode": {
    "name": "ipython",
    "version": 3
   },
   "file_extension": ".py",
   "mimetype": "text/x-python",
   "name": "python",
   "nbconvert_exporter": "python",
   "pygments_lexer": "ipython3",
   "version": "3.8.2"
  }
 },
 "nbformat": 4,
 "nbformat_minor": 4
}
